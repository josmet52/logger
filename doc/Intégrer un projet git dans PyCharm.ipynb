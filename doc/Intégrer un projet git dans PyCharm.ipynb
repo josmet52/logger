{
 "cells": [
  {
   "cell_type": "markdown",
   "metadata": {
    "collapsed": true,
    "pycharm": {
     "name": "#%% md\n"
    }
   },
   "source": [
    "# Intégrer un projet git dans PyCharm\n",
    "\n",
    "### Importer le projet depuis github\n",
    "Se positionner dans le dossier qui contiendra le projet\n",
    "ouvrir un invite de commande et cloner le projet:\n",
    "\n",
    "`git clone https://github.com/josmet52/logger`\n",
    "\n",
    "Ouvrir un invite de commande dans le dossier du projet et\n",
    "installer un environnement virtuel:\n",
    "\n",
    "`python -m venv venv`"
   ]
  },
  {
   "cell_type": "markdown",
   "source": [
    "### Activer l'environnement virtuel:\n",
    "\n",
    "`venv\\Scripts\\activate.bat`\n",
    "\n",
    " l'invite de commande devient:\n",
    "\n",
    "`(venv) c:\\....`\n",
    "\n",
    "### installer les paquets nécéssaires à l'application\n",
    "Si un fichier requirements.txt a été importé lors du clonage la procédure ci-après\n",
    "installera tous les paquets nélcéssaires.\n",
    "\n",
    "`pip freeze -r requirements.txt`\n",
    "\n",
    "Dans le cas contraire, la procédure est la suivante:\n",
    "- lancer l'application par la commande python monapp.py\n",
    "- le système annonce des erreurs pour les paquets manquants\n",
    "- installer les paquets manquants par la commande\n",
    "\n",
    "`pip install paquets`\n",
    "\n",
    "- mettre à jour le fichiers requirements.txt par la commande:\n",
    "\n",
    "`pip freeze > requirements.txt`"
   ],
   "metadata": {
    "collapsed": false
   }
  },
  {
   "cell_type": "markdown",
   "source": [
    "### Mise à jour du dépot git\n",
    "Dans le dossier de l'application créer un fichier nommé : `.gitignore`\n",
    "qui contiendra les fichiers à ne pas garder dans le dépôt git.\n",
    "\n",
    "Dans ce fichier rajouter les lignes suivantes :\n",
    "\n",
    "`venv/`\n",
    "\n",
    "`*.pyc`\n",
    "\n",
    "ainsi le répertoire venv/* et les fichiers *.pyc ne seront pas sauvegardés."
   ],
   "metadata": {
    "collapsed": false
   }
  },
  {
   "cell_type": "markdown",
   "source": [
    "### Ouverture du projet et réglages de PyCharm\n",
    "\n",
    "Depuis PyCharm ouvrir le dossier du projet dans une nouvelle fenêtre\n",
    "et vérifier que PyCharm a ouvert le projet dans l'environnement virtuel:\n",
    "\n",
    "`File | Settings | Project | Python interpreter`\n",
    "\n",
    "et vérifier que le chemin de l'interpréteur mêne à\n",
    "l'environnement virtuel (venv) du projet.\n",
    "\n",
    "\n"
   ],
   "metadata": {
    "collapsed": false
   }
  }
 ],
 "metadata": {
  "kernelspec": {
   "display_name": "Python 3",
   "language": "python",
   "name": "python3"
  },
  "language_info": {
   "codemirror_mode": {
    "name": "ipython",
    "version": 2
   },
   "file_extension": ".py",
   "mimetype": "text/x-python",
   "name": "python",
   "nbconvert_exporter": "python",
   "pygments_lexer": "ipython2",
   "version": "2.7.6"
  }
 },
 "nbformat": 4,
 "nbformat_minor": 0
}
